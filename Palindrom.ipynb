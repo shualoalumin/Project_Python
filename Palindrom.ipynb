{
    "cells": [
        {
            "cell_type": "code",
            "execution_count": null,
            "id": "ed4e7494",
            "metadata": {},
            "outputs": [],
            "source": [
                "# 회문 확인 프로그램\n",
                "\n",
                "def isPalindrome():\n",
                "  # 1. 문자열을 입력받고, 출력합니다.\n",
                "  input_word = input('입력값:\\n')\n",
                "  print()\n",
                "\n",
                "  # 2. 문자열을 뒤집는 과정입니다.\n",
                "  output_word = \"\"\n",
                "  num = len(input_word)\n",
                "  while num > 0 :\n",
                "    output_word = output_word + input_word[num - 1]\n",
                "    num = num - 1\n",
                "\n",
                "  # 3. 뒤집힌 문자열 출력합니다.\n",
                "  print('출력값:')\n",
                "  print('뒤집힌 단어:', output_word)\n",
                "\n",
                "\t# 4. 두 문자열 비교하고 결과를 출력합니다.\n",
                "  if input_word == output_word:\n",
                "      print('입력된 단어는 회문입니다.')\n",
                "  else:\n",
                "      print('입력된 단어는 회문이 아닙니다.')\n",
                "\n",
                "if __name__ == \"__main__\":\n",
                "  isPalindrome()\n"
            ]
        }
    ],
    "metadata": {
        "kernelspec": {
            "display_name": "Python 3 (ipykernel)",
            "language": "python",
            "name": "python3"
        },
        "language_info": {
            "codemirror_mode": {
                "name": "ipython",
                "version": 3
            },
            "file_extension": ".py",
            "mimetype": "text/x-python",
            "name": "python",
            "nbconvert_exporter": "python",
            "pygments_lexer": "ipython3",
            "version": "3.13.0"
        }
    },
    "nbformat": 4,
    "nbformat_minor": 5
}
