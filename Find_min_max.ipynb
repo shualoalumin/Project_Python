{
  "nbformat": 4,
  "nbformat_minor": 0,
  "metadata": {
    "colab": {
      "provenance": []
    },
    "kernelspec": {
      "name": "python3",
      "display_name": "Python 3"
    },
    "language_info": {
      "name": "python"
    }
  },
  "cells": [
    {
      "cell_type": "code",
      "execution_count": null,
      "metadata": {
        "id": "ki1mX3gH6l-L",
        "outputId": "fe01e53e-ee55-450e-ef1e-ad9d18c7c284",
        "colab": {
          "base_uri": "https://localhost:8080/",
          "height": 90
        }
      },
      "outputs": [
        {
          "output_type": "stream",
          "name": "stdout",
          "text": [
            "최솟값: 3\n",
            "최댓값: 12\n"
          ]
        },
        {
          "output_type": "execute_result",
          "data": {
            "text/plain": [
              "'\\n회고:\\n변수를 외부에 노출하지 않는다의 의미 : \\n변수를 외부에서 접근할 수 없도록 하는 것을 의미\\n이를 통해 변수의 값이 외부에서 잘못 수정되는 것을 방지할 수 있습니다.\\n'"
            ],
            "application/vnd.google.colaboratory.intrinsic+json": {
              "type": "string"
            }
          },
          "metadata": {},
          "execution_count": 1
        }
      ],
      "source": [
        "def find_min_max(numbers):\n",
        "    # min_value와 max_value 변수를 초기화\n",
        "    min_value = float('inf')\n",
        "    max_value = float('-inf')\n",
        "\n",
        "    def update_min_max(num):\n",
        "        nonlocal min_value, max_value\n",
        "        # 만약 num 값이 min_value보다 작다면 min_value를 num 값으로 변경\n",
        "        if num < min_value:\n",
        "            min_value = num\n",
        "        # 만약 num 값이 max_value보다 크다면 max_value를 num 값으로 변경\n",
        "        if num > max_value:\n",
        "            max_value = num\n",
        "\n",
        "    # numbers 리스트의 모든 값을 순환하며 최댓값과 최솟값 업데이트\n",
        "    for num in numbers:\n",
        "        update_min_max(num)\n",
        "\n",
        "    # 최솟값을 반환하는 내부함수\n",
        "    def get_min():\n",
        "        return min_value\n",
        "\n",
        "    # 최댓값을 반환하는 내부함수\n",
        "    def get_max():\n",
        "        return max_value\n",
        "\n",
        "    # 외부함수는 내부함수(get_min()과 get_max())를 반환\n",
        "    return get_min, get_max\n",
        "\n",
        "\n",
        "\n",
        "# 테스트 코드\n",
        "numbers = [10, 5, 8, 12, 3, 7]\n",
        "find_min, find_max = find_min_max(numbers)\n",
        "\n",
        "print(\"최솟값:\", find_min())  # 출력: 3\n",
        "print(\"최댓값:\", find_max())  # 출력: 12\n",
        "\n",
        "\n",
        "\n",
        "\n",
        "'''\n",
        "* 변수 초기화 과정 :\n",
        "    max_value = float('-inf') : 음의 무한대로 초기화 하는 의미\n",
        "    가장 작은 값으로 초기화해 두면 최대값을 찾을 때 어떤 수가 와도 최댓값 갱신 보장\n",
        "\n",
        "    반대로,\n",
        "    min_value = float('inf') : 양의 무한대로 초기화 하는 의미\n",
        "    가장 큰 값으로 초기화해 두면 최솟값을 찾을 때 어떤 수가 와도 최솟값 갱신 보장\n",
        "\n",
        "\n",
        "* 클로저를 통한 변수 노출 방지\n",
        "    위의 min_value, max_value 가 nonlocal로 지정되고\n",
        "    마지막에 get_min, get_max 함수를 반환함으로써 클로저를 구현함\n",
        "    이렇게 하면 외부에서는 내부함수만 접근할 수 있고\n",
        "    내부함수 내에서만 min_value, max_value 변수에 접근하므로 보완성 확보\n",
        "\n",
        "\n",
        "김대환(코더) 회고:\n",
        "변수를 외부에 노출하지 않는다의 의미에 대해 이해한 과정.\n",
        "변수를 외부에서 접근할 수 없도록 한다는 것은 변수의 값이 외부에서\n",
        "잘못 수정되는 것을 방지할 수 있고 개발 과정에서 오류를 줄일 수 있다.\n",
        "\n",
        "\n",
        "디버깅 과정 :\n",
        "    변수 초기화 부분이 최솟값과 최대값을 찾는 과정에 선행되어야 함\n",
        "    즉, 최솟값과 최대값을 찾는 과정에서 변수 초기화 부분이 먼저 실행되어야 함\n",
        "'''"
      ]
    }
  ]
}